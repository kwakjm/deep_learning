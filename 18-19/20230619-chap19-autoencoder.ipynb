{
 "cells": [
  {
   "cell_type": "code",
   "execution_count": 4,
   "metadata": {},
   "outputs": [],
   "source": [
    "# 딥러닝 모델 관련 모듈\n",
    "from tensorflow.keras.models import Sequential, Model\n",
    "from tensorflow.keras.layers import Dense,Conv2D, UpSampling2D, Reshape, Flatten, Activation, MaxPooling2D\n",
    "\n",
    "import numpy as np\n",
    "\n",
    "from tensorflow.keras.datasets import mnist\n",
    "\n"
   ]
  },
  {
   "cell_type": "code",
   "execution_count": 3,
   "metadata": {},
   "outputs": [],
   "source": [
    "# 오토 인코더 : 기존의 자료에서 특징을 추출해서 새로운 이미지 생성\n",
    "# 1. 인코더 -> 2. 디코더\n",
    "\n",
    "(X_train, _),(X_test, _) = mnist.load_data()\n",
    "\n",
    "X_train = X_train.reshape(X_train.shape[0], 28,28,1).astype('float32')/255\n",
    "X_test = X_test.reshape(X_test.shape[0], 28,28,1).astype('float32')/255"
   ]
  },
  {
   "cell_type": "code",
   "execution_count": 10,
   "metadata": {},
   "outputs": [
    {
     "name": "stdout",
     "output_type": "stream",
     "text": [
      "Model: \"sequential_5\"\n",
      "_________________________________________________________________\n",
      " Layer (type)                Output Shape              Param #   \n",
      "=================================================================\n",
      " conv2d_37 (Conv2D)          (None, 28, 28, 16)        160       \n",
      "                                                                 \n",
      " max_pooling2d_10 (MaxPoolin  (None, 14, 14, 16)       0         \n",
      " g2D)                                                            \n",
      "                                                                 \n",
      " conv2d_38 (Conv2D)          (None, 14, 14, 8)         1160      \n",
      "                                                                 \n",
      " max_pooling2d_11 (MaxPoolin  (None, 7, 7, 8)          0         \n",
      " g2D)                                                            \n",
      "                                                                 \n",
      " conv2d_39 (Conv2D)          (None, 4, 4, 8)           584       \n",
      "                                                                 \n",
      " conv2d_40 (Conv2D)          (None, 4, 4, 8)           584       \n",
      "                                                                 \n",
      " up_sampling2d_15 (UpSamplin  (None, 8, 8, 8)          0         \n",
      " g2D)                                                            \n",
      "                                                                 \n",
      " conv2d_41 (Conv2D)          (None, 8, 8, 8)           584       \n",
      "                                                                 \n",
      " up_sampling2d_16 (UpSamplin  (None, 16, 16, 8)        0         \n",
      " g2D)                                                            \n",
      "                                                                 \n",
      " conv2d_42 (Conv2D)          (None, 14, 14, 16)        1168      \n",
      "                                                                 \n",
      " up_sampling2d_17 (UpSamplin  (None, 28, 28, 16)       0         \n",
      " g2D)                                                            \n",
      "                                                                 \n",
      " conv2d_43 (Conv2D)          (None, 28, 28, 1)         145       \n",
      "                                                                 \n",
      "=================================================================\n",
      "Total params: 4,385\n",
      "Trainable params: 4,385\n",
      "Non-trainable params: 0\n",
      "_________________________________________________________________\n"
     ]
    }
   ],
   "source": [
    "# 오토인코더 -> 인코딩 : conv -> maxpooling -> conv -> maxpooling -> conv \n",
    "#  디코딩 : conv -> upsampling -> conv -> upsampling -> conv \n",
    "model = Sequential()\n",
    "model.add(Conv2D(16, kernel_size=3, padding='same', input_shape=(28,28,1), activation='relu'))  # layer 28,28,16\n",
    "model.add(MaxPooling2D(2))  # maxpooling  14, 14, 16\n",
    "model.add(Conv2D(8, kernel_size=3, padding='same', activation='relu')) # conv  14, 14, 8\n",
    "model.add(MaxPooling2D(2)) #maxpooling   7, 7, 8\n",
    "model.add(Conv2D(8, kernel_size=3, strides=2, padding='same')) # conv  4, 4, 8\n",
    "\n",
    "# 디코딩\n",
    "model.add(Conv2D(8,kernel_size=3, padding='same', activation='relu'))  # 4, 4, 8\n",
    "model.add(UpSampling2D())   # 8, 8, 8\n",
    "model.add(Conv2D(8, kernel_size=3, padding='same', activation='relu'))  # 8, 8, 8\n",
    "model.add(UpSampling2D()) # 16, 16, 8\n",
    "model.add(Conv2D(16, kernel_size=3, activation='relu'))  # 14, 14, 16\n",
    "model.add(UpSampling2D()) # 28, 28, 16\n",
    "model.add(Conv2D(1, kernel_size=3, padding='same', activation='sigmoid'))\n",
    "\n",
    "model.summary()\n"
   ]
  }
 ],
 "metadata": {
  "kernelspec": {
   "display_name": "py3.8",
   "language": "python",
   "name": "python3"
  },
  "language_info": {
   "codemirror_mode": {
    "name": "ipython",
    "version": 3
   },
   "file_extension": ".py",
   "mimetype": "text/x-python",
   "name": "python",
   "nbconvert_exporter": "python",
   "pygments_lexer": "ipython3",
   "version": "3.8.16"
  },
  "orig_nbformat": 4
 },
 "nbformat": 4,
 "nbformat_minor": 2
}
