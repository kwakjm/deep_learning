{
 "cells": [
  {
   "attachments": {},
   "cell_type": "markdown",
   "metadata": {},
   "source": [
    "# Deep_learning\n",
    "### 4장 평균제곱오차"
   ]
  },
  {
   "cell_type": "code",
   "execution_count": null,
   "metadata": {},
   "outputs": [],
   "source": [
    "import tensorflow as tf\n",
    "\n",
    "tf.__version__"
   ]
  },
  {
   "cell_type": "code",
   "execution_count": 2,
   "metadata": {},
   "outputs": [],
   "source": [
    "from tensorflow.keras.models import Sequential\n",
    "from tensorflow.keras.layers import Dense\n",
    "import numpy as np"
   ]
  },
  {
   "cell_type": "code",
   "execution_count": 3,
   "metadata": {},
   "outputs": [
    {
     "name": "stderr",
     "output_type": "stream",
     "text": [
      "fatal: destination path 'data' already exists and is not an empty directory.\n"
     ]
    }
   ],
   "source": [
    "#데이터 가져오기\n",
    "!git clone https://github.com/taehojo/data.git"
   ]
  },
  {
   "cell_type": "code",
   "execution_count": 4,
   "metadata": {},
   "outputs": [],
   "source": [
    "#훈련 데이터 읽어옴\n",
    "data_set = np.loadtxt('./data/ThoraricSurgery3.csv', delimiter=',')\n",
    "\n",
    "X= data_set[:,0:16]\n",
    "y = data_set[:,-1]"
   ]
  },
  {
   "cell_type": "code",
   "execution_count": 5,
   "metadata": {},
   "outputs": [
    {
     "name": "stdout",
     "output_type": "stream",
     "text": [
      "(470, 16) (470,)\n"
     ]
    }
   ],
   "source": [
    "print(X.shape, y.shape)"
   ]
  },
  {
   "cell_type": "code",
   "execution_count": 6,
   "metadata": {},
   "outputs": [
    {
     "name": "stdout",
     "output_type": "stream",
     "text": [
      "Epoch 1/5\n",
      "30/30 [==============================] - 1s 1ms/step - loss: 2.0119 - accuracy: 0.8511\n",
      "Epoch 2/5\n",
      "30/30 [==============================] - 0s 1ms/step - loss: 1.1118 - accuracy: 0.8511\n",
      "Epoch 3/5\n",
      "30/30 [==============================] - 0s 1ms/step - loss: 0.4861 - accuracy: 0.8447\n",
      "Epoch 4/5\n",
      "30/30 [==============================] - 0s 1ms/step - loss: 0.4321 - accuracy: 0.8511\n",
      "Epoch 5/5\n",
      "30/30 [==============================] - 0s 2ms/step - loss: 0.4265 - accuracy: 0.8511\n"
     ]
    }
   ],
   "source": [
    "# 모델 생성, 컴파일, 실행\n",
    "model = Sequential()\n",
    "model.add(Dense(30, input_dim=16, activation = 'relu')) # Layer 추가\n",
    "model.add(Dense(1,activation = 'sigmoid'))\n",
    "\n",
    "# 모델 컴파일, 조건(손실함수, 최적화, 정확도, 손실율)\n",
    "model.compile(loss='binary_crossentropy', optimizer='adam',metrics=['accuracy'])\n",
    "\n",
    "#모델 학습\n",
    "history = model.fit(X,y, epochs=5 ,batch_size=16)"
   ]
  },
  {
   "cell_type": "code",
   "execution_count": 7,
   "metadata": {},
   "outputs": [
    {
     "name": "stdout",
     "output_type": "stream",
     "text": [
      "{'loss': [2.011899471282959, 1.1117658615112305, 0.4861176609992981, 0.43206527829170227, 0.42649582028388977], 'accuracy': [0.8510638475418091, 0.8510638475418091, 0.8446808457374573, 0.8510638475418091, 0.8510638475418091]} \n",
      "\n",
      "[2.011899471282959, 1.1117658615112305, 0.4861176609992981, 0.43206527829170227, 0.42649582028388977] \n",
      "\n",
      "[0.8510638475418091, 0.8510638475418091, 0.8446808457374573, 0.8510638475418091, 0.8510638475418091] \n",
      "\n"
     ]
    }
   ],
   "source": [
    "print(history.history,'\\n')\n",
    "print(history.history['loss'],'\\n')\n",
    "print(history.history['accuracy'],'\\n')"
   ]
  },
  {
   "attachments": {},
   "cell_type": "markdown",
   "metadata": {},
   "source": [
    "### 최소제곱법"
   ]
  },
  {
   "cell_type": "code",
   "execution_count": 8,
   "metadata": {},
   "outputs": [
    {
     "name": "stdout",
     "output_type": "stream",
     "text": [
      "x평균값:  5.0\n",
      "y평균값:  90.5\n"
     ]
    }
   ],
   "source": [
    "##기울기를 구하는 최소제곱법,\n",
    "import numpy as np\n",
    "\n",
    "#공부한 시간과 점수를 각각 x,y라는 이름의 넘파이로 배열을 만듦\n",
    "x = np.array([2,4,6,8])\n",
    "y = np.array([81,93,91,97])\n",
    "\n",
    "#각각 평균\n",
    "mx = np.mean(x)\n",
    "my = np.mean(y)\n",
    "\n",
    "print(\"x평균값: \",mx)\n",
    "print(\"y평균값: \",my)"
   ]
  },
  {
   "cell_type": "code",
   "execution_count": 9,
   "metadata": {},
   "outputs": [],
   "source": [
    "#기울기 공식의 분모 부분\n",
    "divisor = sum([(i-mx)**2 for i in x]) #(x-x평균)의 제곱 합\n",
    "\n",
    "#기울기 공식ㄱ의 분자 부분\n",
    "def top(x,mx,y,my):\n",
    "    d = 0\n",
    "    for i in range(len(x)):\n",
    "        d+= (x[i]-mx) * (y[i]-my)\n",
    "    return d\n",
    "\n",
    "dividend = top(x,mx,y,my)"
   ]
  },
  {
   "cell_type": "code",
   "execution_count": 10,
   "metadata": {},
   "outputs": [
    {
     "name": "stdout",
     "output_type": "stream",
     "text": [
      "분모:  20.0\n",
      "분자:  46.0\n"
     ]
    }
   ],
   "source": [
    "print(\"분모: \", divisor)\n",
    "print(\"분자: \", dividend)"
   ]
  },
  {
   "cell_type": "code",
   "execution_count": 11,
   "metadata": {},
   "outputs": [
    {
     "name": "stdout",
     "output_type": "stream",
     "text": [
      "기울기 a =  2.3\n",
      "y절편 b =  79.0\n"
     ]
    }
   ],
   "source": [
    "#기울기 a\n",
    "a = dividend / divisor\n",
    "\n",
    "#절편 b\n",
    "b = my - (mx*a)\n",
    "\n",
    "#출력으로 확인\n",
    "print(\"기울기 a = \", a)\n",
    "print(\"y절편 b = \", b)"
   ]
  },
  {
   "attachments": {},
   "cell_type": "markdown",
   "metadata": {},
   "source": [
    "### 평균 제곱오차(MSE)"
   ]
  },
  {
   "cell_type": "code",
   "execution_count": 18,
   "metadata": {},
   "outputs": [
    {
     "name": "stdout",
     "output_type": "stream",
     "text": [
      "공부시간=2, 실제점수=81, 예측점수=82\n",
      "공부시간=4, 실제점수=93, 예측점수=88\n",
      "공부시간=6, 실제점수=91, 예측점수=94\n",
      "공부시간=8, 실제점수=97, 예측점수=100\n",
      "평균 제곱 오차: 11.0\n"
     ]
    }
   ],
   "source": [
    "fake_a =3\n",
    "fake_b = 76\n",
    "\n",
    "\n",
    "\n",
    "x = np.array([2,4,6,8])\n",
    "y = np.array([81,93,91,97])\n",
    "\n",
    "# 가상의 a값과 b 값을 대입한 결과를 출력하는 함수\n",
    "def predict(x):\n",
    "    return fake_a * x + fake_b\n",
    "\n",
    "#예측값이 들어갈 빈 리스트\n",
    "predict_result = []\n",
    "\n",
    "#모든 x 값을 한 번씩 대입해 predict_result 리스트를 완성\n",
    "for i in range(len(x)):\n",
    "    predict_result.append(predict(x[i]))\n",
    "    print(\"공부시간=%.f, 실제점수=%.f, 예측점수=%.f\" % (x[i], y[i], predict(x[i])))\n",
    "    \n",
    "n = len(x)\n",
    "def mse(y,y_pred):\n",
    "    return(1/n) * sum((y-y_pred)**2)\n",
    "\n",
    "\n",
    "#평균 제곱오차 값을 출력\n",
    "print(\"평균 제곱 오차: \"+ str(mse(y,predict_result)))"
   ]
  },
  {
   "cell_type": "code",
   "execution_count": null,
   "metadata": {},
   "outputs": [],
   "source": []
  }
 ],
 "metadata": {
  "kernelspec": {
   "display_name": "py3.8",
   "language": "python",
   "name": "python3"
  },
  "language_info": {
   "codemirror_mode": {
    "name": "ipython",
    "version": 3
   },
   "file_extension": ".py",
   "mimetype": "text/x-python",
   "name": "python",
   "nbconvert_exporter": "python",
   "pygments_lexer": "ipython3",
   "version": "3.8.16"
  },
  "orig_nbformat": 4
 },
 "nbformat": 4,
 "nbformat_minor": 2
}
