{
 "cells": [
  {
   "cell_type": "code",
   "execution_count": 1,
   "metadata": {},
   "outputs": [],
   "source": [
    "#로이터 뉴스 데이터셋 불러오기\n",
    "from tensorflow.keras.datasets import reuters\n",
    "from tensorflow.keras.preprocessing import sequence\n",
    "from tensorflow.keras.callbacks import ModelCheckpoint, EarlyStopping\n",
    "from tensorflow.keras.preprocessing.text import Tokenizer\n",
    "from tensorflow.keras.preprocessing.sequence import pad_sequences\n",
    "from tensorflow.keras.models import Sequential\n",
    "from tensorflow.keras.layers import Dense, Flatten, Embedding, LSTM\n",
    "from tensorflow.keras.utils import to_categorical\n",
    "\n",
    "import matplotlib.pyplot as plt\n",
    "import numpy as np"
   ]
  },
  {
   "cell_type": "code",
   "execution_count": 2,
   "metadata": {},
   "outputs": [],
   "source": [
    "(X_train, y_train), (X_test, y_test) = reuters.load_data(num_words=1000, test_split=0.2)"
   ]
  },
  {
   "cell_type": "code",
   "execution_count": 3,
   "metadata": {},
   "outputs": [
    {
     "name": "stdout",
     "output_type": "stream",
     "text": [
      "46 카테고리\n",
      "8982 학습용 뉴스 기사\n",
      "2246 테스트용 뉴스 기사\n",
      "[1, 2, 2, 8, 43, 10, 447, 5, 25, 207, 270, 5, 2, 111, 16, 369, 186, 90, 67, 7, 89, 5, 19, 102, 6, 19, 124, 15, 90, 67, 84, 22, 482, 26, 7, 48, 4, 49, 8, 864, 39, 209, 154, 6, 151, 6, 83, 11, 15, 22, 155, 11, 15, 7, 48, 9, 2, 2, 504, 6, 258, 6, 272, 11, 15, 22, 134, 44, 11, 15, 16, 8, 197, 2, 90, 67, 52, 29, 209, 30, 32, 132, 6, 109, 15, 17, 12]\n"
     ]
    }
   ],
   "source": [
    "#데이터를 확인한 후 출력\n",
    "category = np.max(y_train)+1\n",
    "print(category, '카테고리')\n",
    "print(len(X_train), '학습용 뉴스 기사')\n",
    "print(len(X_test), '테스트용 뉴스 기사')\n",
    "print(X_train[0]) #단어가 아닌 숫자로표기, 예를 들어 3이면 세번째로 빈도가 높은 단어\n",
    "#앞서서 num_words=1000이란 효율을 위해 빈도가 1~1000의 단어만 사용\n"
   ]
  },
  {
   "cell_type": "code",
   "execution_count": 4,
   "metadata": {},
   "outputs": [],
   "source": [
    "\n",
    "\n",
    "# 각 기사의 단어 수가 제각각 다르기 때문에 맞춰줘야함\n",
    "# 기사의 단어 수가 100보다 크면 100개째 단어만 선택하고 나머지 버림\n",
    "X_train = sequence.pad_sequences(X_train, maxlen=100)\n",
    "X_test = sequence.pad_sequences(X_test, maxlen=100)"
   ]
  },
  {
   "cell_type": "code",
   "execution_count": 5,
   "metadata": {},
   "outputs": [],
   "source": [
    "# 원-핫 인코딩 처리\n",
    "y_train = to_categorical(y_train)\n",
    "y_test = to_categorical(y_test)"
   ]
  },
  {
   "cell_type": "code",
   "execution_count": 6,
   "metadata": {},
   "outputs": [
    {
     "name": "stdout",
     "output_type": "stream",
     "text": [
      "8982\n",
      "2246\n",
      "8982\n",
      "2246\n"
     ]
    }
   ],
   "source": [
    "print(len(X_train))\n",
    "print(len(X_test))\n",
    "print(len(y_train))\n",
    "print(len(y_test))\n"
   ]
  },
  {
   "cell_type": "code",
   "execution_count": 13,
   "metadata": {},
   "outputs": [],
   "source": [
    "# 모델의 구조를 설정\n",
    "model = Sequential()\n",
    "model.add(Embedding(1000, 100))\n",
    "model.add(LSTM(100, activation = 'tanh'))\n",
    "model.add(Dense(46, activation='softmax'))"
   ]
  },
  {
   "cell_type": "code",
   "execution_count": 14,
   "metadata": {},
   "outputs": [
    {
     "name": "stdout",
     "output_type": "stream",
     "text": [
      "Epoch 1/200\n",
      "450/450 [==============================] - 20s 41ms/step - loss: 2.1531 - accuracy: 0.4432 - val_loss: 1.8257 - val_accuracy: 0.5254\n",
      "Epoch 2/200\n",
      "450/450 [==============================] - 18s 41ms/step - loss: 1.9286 - accuracy: 0.5194 - val_loss: 1.8986 - val_accuracy: 0.5232\n",
      "Epoch 3/200\n",
      "450/450 [==============================] - 19s 43ms/step - loss: 1.8607 - accuracy: 0.5298 - val_loss: 1.7993 - val_accuracy: 0.5454\n",
      "Epoch 4/200\n",
      "450/450 [==============================] - 22s 48ms/step - loss: 1.7255 - accuracy: 0.5633 - val_loss: 1.7321 - val_accuracy: 0.5690\n",
      "Epoch 5/200\n",
      "450/450 [==============================] - 20s 46ms/step - loss: 1.6296 - accuracy: 0.5885 - val_loss: 1.6507 - val_accuracy: 0.5935\n",
      "Epoch 6/200\n",
      "450/450 [==============================] - 21s 48ms/step - loss: 1.5269 - accuracy: 0.6195 - val_loss: 1.5684 - val_accuracy: 0.6069\n",
      "Epoch 7/200\n",
      "450/450 [==============================] - 20s 45ms/step - loss: 1.4077 - accuracy: 0.6347 - val_loss: 1.4312 - val_accuracy: 0.6336\n",
      "Epoch 8/200\n",
      "450/450 [==============================] - 20s 45ms/step - loss: 1.2632 - accuracy: 0.6889 - val_loss: 1.3795 - val_accuracy: 0.6545\n",
      "Epoch 9/200\n",
      "450/450 [==============================] - 20s 45ms/step - loss: 1.1482 - accuracy: 0.7138 - val_loss: 1.2464 - val_accuracy: 0.6821\n",
      "Epoch 10/200\n",
      "450/450 [==============================] - 22s 50ms/step - loss: 1.0625 - accuracy: 0.7332 - val_loss: 1.2143 - val_accuracy: 0.7030\n",
      "Epoch 11/200\n",
      "450/450 [==============================] - 21s 47ms/step - loss: 0.9893 - accuracy: 0.7506 - val_loss: 1.1982 - val_accuracy: 0.6995\n",
      "Epoch 12/200\n",
      "450/450 [==============================] - 24s 53ms/step - loss: 0.9281 - accuracy: 0.7664 - val_loss: 1.1447 - val_accuracy: 0.7146\n",
      "Epoch 13/200\n",
      "450/450 [==============================] - 21s 47ms/step - loss: 0.8659 - accuracy: 0.7787 - val_loss: 1.1871 - val_accuracy: 0.7102\n",
      "Epoch 14/200\n",
      "450/450 [==============================] - 23s 52ms/step - loss: 0.8114 - accuracy: 0.7964 - val_loss: 1.1523 - val_accuracy: 0.7155\n",
      "Epoch 15/200\n",
      "450/450 [==============================] - 21s 46ms/step - loss: 0.7585 - accuracy: 0.8086 - val_loss: 1.1519 - val_accuracy: 0.7231\n",
      "Epoch 16/200\n",
      "450/450 [==============================] - 22s 50ms/step - loss: 0.7052 - accuracy: 0.8213 - val_loss: 1.1843 - val_accuracy: 0.7110\n",
      "Epoch 17/200\n",
      "450/450 [==============================] - 21s 46ms/step - loss: 0.6567 - accuracy: 0.8333 - val_loss: 1.1895 - val_accuracy: 0.7150\n"
     ]
    }
   ],
   "source": [
    "model.compile(loss = 'categorical_crossentropy', optimizer='adam', metrics=['accuracy'])\n",
    "\n",
    "early_stopping_callback = EarlyStopping(monitor='val_loss', patience=5)\n",
    "\n",
    "history = model.fit(X_train, y_train, batch_size=20, epochs=200, validation_data=(X_test,y_test), callbacks=[early_stopping_callback])"
   ]
  },
  {
   "cell_type": "code",
   "execution_count": 16,
   "metadata": {},
   "outputs": [
    {
     "name": "stdout",
     "output_type": "stream",
     "text": [
      "71/71 [==============================] - 1s 16ms/step - loss: 1.1895 - accuracy: 0.7150\n",
      "Test Accuracy: 0.7150\n"
     ]
    }
   ],
   "source": [
    "print('Test Accuracy: %.4f' %(model.evaluate(X_test, y_test)[1]))"
   ]
  },
  {
   "cell_type": "code",
   "execution_count": 17,
   "metadata": {},
   "outputs": [],
   "source": [
    "y_vloss = history.history['val_loss']\n",
    "y_loss = history.history['loss']"
   ]
  },
  {
   "cell_type": "code",
   "execution_count": 22,
   "metadata": {},
   "outputs": [
    {
     "data": {
      "image/png": "[encoded data removed]",
      "text/plain": [
       "<Figure size 640x480 with 1 Axes>"
      ]
     },
     "metadata": {},
     "output_type": "display_data"
    }
   ],
   "source": [
    "x_len = np.arange(len(y_loss))\n",
    "plt.plot(x_len, y_vloss, marker = '.', c='red', label= 'Testset_loss')\n",
    "plt.plot(x_len, y_loss, marker = '.', c='blue', label= 'Trainset_loss')\n",
    "\n",
    "plt.legend(loc= 'upper right')\n",
    "plt.grid()\n",
    "plt.xlabel('epoch')\n",
    "plt.ylabel('loss')\n",
    "plt.show()"
   ]
  },
  {
   "cell_type": "code",
   "execution_count": null,
   "metadata": {},
   "outputs": [],
   "source": []
  }
 ],
 "metadata": {
  "kernelspec": {
   "display_name": "py3.8",
   "language": "python",
   "name": "python3"
  },
  "language_info": {
   "codemirror_mode": {
    "name": "ipython",
    "version": 3
   },
   "file_extension": ".py",
   "mimetype": "text/x-python",
   "name": "python",
   "nbconvert_exporter": "python",
   "pygments_lexer": "ipython3",
   "version": "3.8.16"
  },
  "orig_nbformat": 4
 },
 "nbformat": 4,
 "nbformat_minor": 2
}
