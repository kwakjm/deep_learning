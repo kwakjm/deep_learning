{
 "cells": [
  {
   "cell_type": "code",
   "execution_count": 1,
   "metadata": {},
   "outputs": [],
   "source": [
    "from tensorflow.keras.models import Sequential\n",
    "from tensorflow.keras.layers import Dense, Dropout, Flatten, Conv2D, MaxPooling2D\n",
    "from tensorflow.keras.callbacks import ModelCheckpoint, EarlyStopping\n",
    "from tensorflow.keras.utils import to_categorical # one-hot encoding과 같은 결과 반환\n",
    "\n",
    "\n",
    "from tensorflow.keras.datasets import mnist\n",
    "import numpy as np\n",
    "import matplotlib.pyplot as plt"
   ]
  },
  {
   "cell_type": "code",
   "execution_count": 2,
   "metadata": {},
   "outputs": [],
   "source": [
    "(X_train, y_train), (X_test, y_test) = mnist.load_data()"
   ]
  },
  {
   "cell_type": "code",
   "execution_count": 6,
   "metadata": {},
   "outputs": [],
   "source": [
    "#CNN을 실행하기 위한 데이터 reshape\n",
    "X_train = X_train.reshape(X_train.shape[0], 28,28,1).astype('float32')/255\n",
    "X_test = X_test.reshape(X_test.shape[0], 28,28,1).astype('float32')/255\n",
    "\n",
    "#데이터 정규화\n",
    "y_train = to_categorical(y_train, 10)\n",
    "y_test = to_categorical(y_test, 10)"
   ]
  },
  {
   "cell_type": "code",
   "execution_count": 18,
   "metadata": {},
   "outputs": [
    {
     "name": "stdout",
     "output_type": "stream",
     "text": [
      "(60000, 28, 28, 1)\n",
      "(10000, 28, 28, 1)\n",
      "(60000, 10)\n",
      "(10000, 10)\n"
     ]
    }
   ],
   "source": [
    "print(X_train.shape)\n",
    "print(X_test.shape)\n",
    "print(y_train.shape)\n",
    "print(y_test.shape)"
   ]
  },
  {
   "cell_type": "code",
   "execution_count": 10,
   "metadata": {},
   "outputs": [
    {
     "name": "stdout",
     "output_type": "stream",
     "text": [
      "Model: \"sequential_3\"\n",
      "_________________________________________________________________\n",
      " Layer (type)                Output Shape              Param #   \n",
      "=================================================================\n",
      " conv2d_2 (Conv2D)           (None, 26, 26, 32)        320       \n",
      "                                                                 \n",
      " conv2d_3 (Conv2D)           (None, 24, 24, 64)        18496     \n",
      "                                                                 \n",
      " max_pooling2d_1 (MaxPooling  (None, 12, 12, 64)       0         \n",
      " 2D)                                                             \n",
      "                                                                 \n",
      " dropout (Dropout)           (None, 12, 12, 64)        0         \n",
      "                                                                 \n",
      " flatten (Flatten)           (None, 9216)              0         \n",
      "                                                                 \n",
      " dense (Dense)               (None, 128)               1179776   \n",
      "                                                                 \n",
      " dropout_1 (Dropout)         (None, 128)               0         \n",
      "                                                                 \n",
      " dense_1 (Dense)             (None, 10)                1290      \n",
      "                                                                 \n",
      "=================================================================\n",
      "Total params: 1,199,882\n",
      "Trainable params: 1,199,882\n",
      "Non-trainable params: 0\n",
      "_________________________________________________________________\n"
     ]
    }
   ],
   "source": [
    "# CNN 신경망 설정\n",
    "model = Sequential()\n",
    "model.add(Conv2D(32,(3,3), input_shape = (28,28,1), activation = 'relu')) #커넬 개수 32, 사이즈 (3,3)\n",
    "model.add(Conv2D(64,kernel_size = (3,3), activation = 'relu')) #커넬 개수 64개\n",
    "model.add(MaxPooling2D(pool_size = (2,2))) #풀링 사이즈 (2,2) -> 50% 줄어듬\n",
    "model.add(Dropout(0.25)) #노드를 25% 꺼줌(계산안함)\n",
    "\n",
    "#Dense 실행 -> 1차원으로 데이터 차원을 변경\n",
    "model.add(Flatten()) #(28,28,1) -> (28*28*1)\n",
    "model.add(Dense(128,activation = 'relu' ))\n",
    "model.add(Dropout(0,5))\n",
    "model.add(Dense(10,activation = 'softmax'))\n",
    "model.summary()"
   ]
  },
  {
   "cell_type": "code",
   "execution_count": 11,
   "metadata": {},
   "outputs": [
    {
     "name": "stdout",
     "output_type": "stream",
     "text": [
      "\n",
      "Epoch 1: val_loss improved from inf to 0.34571, saving model to ./data/model\\MNIST_CNN.hdf5\n",
      "\n",
      "Epoch 2: val_loss improved from 0.34571 to 0.27468, saving model to ./data/model\\MNIST_CNN.hdf5\n",
      "\n",
      "Epoch 3: val_loss improved from 0.27468 to 0.23564, saving model to ./data/model\\MNIST_CNN.hdf5\n",
      "\n",
      "Epoch 4: val_loss improved from 0.23564 to 0.20396, saving model to ./data/model\\MNIST_CNN.hdf5\n",
      "\n",
      "Epoch 5: val_loss improved from 0.20396 to 0.17472, saving model to ./data/model\\MNIST_CNN.hdf5\n",
      "\n",
      "Epoch 6: val_loss improved from 0.17472 to 0.15329, saving model to ./data/model\\MNIST_CNN.hdf5\n",
      "\n",
      "Epoch 7: val_loss improved from 0.15329 to 0.14332, saving model to ./data/model\\MNIST_CNN.hdf5\n",
      "\n",
      "Epoch 8: val_loss improved from 0.14332 to 0.13525, saving model to ./data/model\\MNIST_CNN.hdf5\n",
      "\n",
      "Epoch 9: val_loss improved from 0.13525 to 0.13253, saving model to ./data/model\\MNIST_CNN.hdf5\n",
      "\n",
      "Epoch 10: val_loss improved from 0.13253 to 0.12911, saving model to ./data/model\\MNIST_CNN.hdf5\n",
      "\n",
      "Epoch 11: val_loss did not improve from 0.12911\n",
      "\n",
      "Epoch 12: val_loss improved from 0.12911 to 0.12652, saving model to ./data/model\\MNIST_CNN.hdf5\n",
      "\n",
      "Epoch 13: val_loss improved from 0.12652 to 0.11780, saving model to ./data/model\\MNIST_CNN.hdf5\n",
      "\n",
      "Epoch 14: val_loss improved from 0.11780 to 0.11177, saving model to ./data/model\\MNIST_CNN.hdf5\n",
      "\n",
      "Epoch 15: val_loss improved from 0.11177 to 0.10466, saving model to ./data/model\\MNIST_CNN.hdf5\n",
      "\n",
      "Epoch 16: val_loss did not improve from 0.10466\n",
      "\n",
      "Epoch 17: val_loss did not improve from 0.10466\n",
      "\n",
      "Epoch 18: val_loss improved from 0.10466 to 0.10207, saving model to ./data/model\\MNIST_CNN.hdf5\n",
      "\n",
      "Epoch 19: val_loss did not improve from 0.10207\n",
      "\n",
      "Epoch 20: val_loss did not improve from 0.10207\n",
      "\n",
      "Epoch 21: val_loss did not improve from 0.10207\n",
      "\n",
      "Epoch 22: val_loss improved from 0.10207 to 0.10090, saving model to ./data/model\\MNIST_CNN.hdf5\n",
      "\n",
      "Epoch 23: val_loss did not improve from 0.10090\n",
      "\n",
      "Epoch 24: val_loss improved from 0.10090 to 0.09581, saving model to ./data/model\\MNIST_CNN.hdf5\n",
      "\n",
      "Epoch 25: val_loss did not improve from 0.09581\n",
      "\n",
      "Epoch 26: val_loss did not improve from 0.09581\n",
      "\n",
      "Epoch 27: val_loss improved from 0.09581 to 0.09535, saving model to ./data/model\\MNIST_CNN.hdf5\n",
      "\n",
      "Epoch 28: val_loss did not improve from 0.09535\n",
      "\n",
      "Epoch 29: val_loss did not improve from 0.09535\n",
      "\n",
      "Epoch 30: val_loss improved from 0.09535 to 0.09172, saving model to ./data/model\\MNIST_CNN.hdf5\n",
      "\n",
      "Epoch 31: val_loss did not improve from 0.09172\n",
      "\n",
      "Epoch 32: val_loss improved from 0.09172 to 0.08918, saving model to ./data/model\\MNIST_CNN.hdf5\n",
      "\n",
      "Epoch 33: val_loss did not improve from 0.08918\n",
      "\n",
      "Epoch 34: val_loss did not improve from 0.08918\n",
      "\n",
      "Epoch 35: val_loss improved from 0.08918 to 0.08552, saving model to ./data/model\\MNIST_CNN.hdf5\n",
      "\n",
      "Epoch 36: val_loss did not improve from 0.08552\n",
      "\n",
      "Epoch 37: val_loss did not improve from 0.08552\n",
      "\n",
      "Epoch 38: val_loss did not improve from 0.08552\n",
      "\n",
      "Epoch 39: val_loss did not improve from 0.08552\n",
      "\n",
      "Epoch 40: val_loss did not improve from 0.08552\n",
      "\n",
      "Epoch 41: val_loss did not improve from 0.08552\n",
      "\n",
      "Epoch 42: val_loss did not improve from 0.08552\n",
      "\n",
      "Epoch 43: val_loss did not improve from 0.08552\n",
      "\n",
      "Epoch 44: val_loss did not improve from 0.08552\n",
      "\n",
      "Epoch 45: val_loss did not improve from 0.08552\n",
      "313/313 [==============================] - 3s 8ms/step - loss: 79.7475 - accuracy: 0.9229\n",
      "Test accuracy : 0.9229000210762024\n"
     ]
    }
   ],
   "source": [
    "model.compile(loss = 'categorical_crossentropy', optimizer= 'adam', metrics = ['accuracy'])\n",
    "#모델 최적화를 위한 설정\n",
    "model_path = './data/model/MNIST_CNN.hdf5'\n",
    "checkpointer = ModelCheckpoint(filepath = model_path, monitor = 'val_loss',\n",
    "                               verbose = 1, save_best_only =True)\n",
    "\n",
    "early_stopping = EarlyStopping(monitor = 'val_loss', patience = 10)\n",
    "\n",
    "hist = model.fit(X_train, y_train, epochs = 2000,\n",
    "                 validation_split = 0.25, batch_size = 200, verbose = 0,\n",
    "                 callbacks = [early_stopping, checkpointer])\n",
    "\n",
    "#테스트 정확도 출력\n",
    "print(\"Test accuracy :\", model.evaluate(X_test, y_test)[1])"
   ]
  },
  {
   "cell_type": "code",
   "execution_count": 12,
   "metadata": {},
   "outputs": [
    {
     "data": {
      "image/png": "[encoded data removed]",
      "text/plain": [
       "<Figure size 640x480 with 1 Axes>"
      ]
     },
     "metadata": {},
     "output_type": "display_data"
    }
   ],
   "source": [
    "import matplotlib.pyplot as plt\n",
    "import numpy as np\n",
    "\n",
    "y_vloss = hist.history['val_loss']\n",
    "\n",
    "#학습셋의 오차\n",
    "y_loss = hist.history['loss']\n",
    "\n",
    "#그래프로 표현\n",
    "x_len = np.arange(len(y_loss))\n",
    "plt.plot(x_len, y_vloss, marker = '.', c = 'red', label = 'Testset_loss')\n",
    "plt.plot(x_len, y_loss, marker = '.', c = 'blue', label = 'Trainset_loss')\n",
    "\n",
    "plt.legend(loc = 'upper right')\n",
    "plt.grid()\n",
    "plt.xlabel('epoch')\n",
    "plt.ylabel('loss')\n",
    "plt.show()"
   ]
  },
  {
   "cell_type": "code",
   "execution_count": 13,
   "metadata": {},
   "outputs": [
    {
     "data": {
      "text/plain": [
       "(10000, 28, 28, 1)"
      ]
     },
     "execution_count": 13,
     "metadata": {},
     "output_type": "execute_result"
    }
   ],
   "source": [
    "X_test.shape"
   ]
  }
 ],
 "metadata": {
  "kernelspec": {
   "display_name": "py3.8",
   "language": "python",
   "name": "python3"
  },
  "language_info": {
   "codemirror_mode": {
    "name": "ipython",
    "version": 3
   },
   "file_extension": ".py",
   "mimetype": "text/x-python",
   "name": "python",
   "nbconvert_exporter": "python",
   "pygments_lexer": "ipython3",
   "version": "3.8.16"
  },
  "orig_nbformat": 4
 },
 "nbformat": 4,
 "nbformat_minor": 2
}
