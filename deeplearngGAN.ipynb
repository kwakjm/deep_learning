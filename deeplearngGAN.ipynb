{
 "cells": [
  {
   "cell_type": "code",
   "execution_count": 13,
   "metadata": {},
   "outputs": [],
   "source": [
    "from tensorflow.keras.models import Sequential , Model\n",
    "from tensorflow.keras.layers import Dense , Conv2D, UpSampling2D , BatchNormalization, Reshape , Flatten ,Dropout\n",
    "from tensorflow.keras.layers import Activation, LeakyReLU , Input\n",
    "from tensorflow.keras.callbacks import ModelCheckpoint ,  EarlyStopping\n",
    "from tensorflow.keras.utils import to_categorical\n",
    "import numpy as np\n",
    "import matplotlib.pyplot as plt"
   ]
  },
  {
   "cell_type": "code",
   "execution_count": 8,
   "metadata": {},
   "outputs": [
    {
     "name": "stdout",
     "output_type": "stream",
     "text": [
      "Model: \"sequential_2\"\n",
      "_________________________________________________________________\n",
      " Layer (type)                Output Shape              Param #   \n",
      "=================================================================\n",
      " dense_2 (Dense)             (None, 6272)              633472    \n",
      "                                                                 \n",
      " batch_normalization_3 (Batc  (None, 6272)             25088     \n",
      " hNormalization)                                                 \n",
      "                                                                 \n",
      " reshape_1 (Reshape)         (None, 7, 7, 128)         0         \n",
      "                                                                 \n",
      " up_sampling2d_2 (UpSampling  (None, 14, 14, 128)      0         \n",
      " 2D)                                                             \n",
      "                                                                 \n",
      " conv2d_2 (Conv2D)           (None, 14, 14, 64)        204864    \n",
      "                                                                 \n",
      " batch_normalization_4 (Batc  (None, 14, 14, 64)       256       \n",
      " hNormalization)                                                 \n",
      "                                                                 \n",
      " activation_1 (Activation)   (None, 14, 14, 64)        0         \n",
      "                                                                 \n",
      " up_sampling2d_3 (UpSampling  (None, 28, 28, 64)       0         \n",
      " 2D)                                                             \n",
      "                                                                 \n",
      " conv2d_3 (Conv2D)           (None, 28, 28, 1)         1601      \n",
      "                                                                 \n",
      "=================================================================\n",
      "Total params: 865,281\n",
      "Trainable params: 852,609\n",
      "Non-trainable params: 12,672\n",
      "_________________________________________________________________\n"
     ]
    }
   ],
   "source": [
    "# chap19 GAN -> 생성자와 판별자로 모델을 나눔\n",
    "generator = Sequential()\n",
    "generator.add(Dense(128*7*7, input_dim = 100,activation = LeakyReLU(0.2))) #  노이즈 이미지 생성\n",
    "generator.add(BatchNormalization()) # 데이터의 정규화 작업 : 분산 0 , 평균 1\n",
    "generator.add(Reshape((7,7,128))) # Conv 에 입력 가능한 자료로 변환\n",
    "generator.add(UpSampling2D()) # 이미지 확대 : 14 * 14 # 이 레이어를 지날떄 14 *14 가 됨\n",
    "generator.add(Conv2D(64,kernel_size = 5,padding = 'same')) # 14 * 14 size 변동 없음\n",
    "generator.add(BatchNormalization()) # 데이터 정규화\n",
    "generator.add(Activation(LeakyReLU(0.2))) # 활성화 함수 는 LeakyReLU 사용\n",
    "generator.add(UpSampling2D()) # 이미지 확대 28 * 28 # 이 레이어를 지날떄 28*28 이 됨\n",
    "generator.add(Conv2D(1,kernel_size = 5,padding='same',activation = 'tanh'))\n",
    "generator.summary()"
   ]
  },
  {
   "cell_type": "code",
   "execution_count": 10,
   "metadata": {},
   "outputs": [
    {
     "name": "stdout",
     "output_type": "stream",
     "text": [
      "Model: \"sequential_4\"\n",
      "_________________________________________________________________\n",
      " Layer (type)                Output Shape              Param #   \n",
      "=================================================================\n",
      " conv2d_6 (Conv2D)           (None, 14, 14, 64)        1664      \n",
      "                                                                 \n",
      " activation_4 (Activation)   (None, 14, 14, 64)        0         \n",
      "                                                                 \n",
      " dropout_2 (Dropout)         (None, 14, 14, 64)        0         \n",
      "                                                                 \n",
      " conv2d_7 (Conv2D)           (None, 7, 7, 128)         204928    \n",
      "                                                                 \n",
      " activation_5 (Activation)   (None, 7, 7, 128)         0         \n",
      "                                                                 \n",
      " dropout_3 (Dropout)         (None, 7, 7, 128)         0         \n",
      "                                                                 \n",
      " flatten_1 (Flatten)         (None, 6272)              0         \n",
      "                                                                 \n",
      " dense_4 (Dense)             (None, 1)                 6273      \n",
      "                                                                 \n",
      "=================================================================\n",
      "Total params: 212,865\n",
      "Trainable params: 212,865\n",
      "Non-trainable params: 0\n",
      "_________________________________________________________________\n"
     ]
    }
   ],
   "source": [
    "# 판별자 모델 생성\n",
    "discriminator = Sequential()\n",
    "discriminator.add(Conv2D(64,kernel_size = 5 , strides = 2, input_shape = (28,28,1),padding = 'same')) # 28 * 28 * 64\n",
    "discriminator.add(Activation(LeakyReLU(0.2))) # 활성화 함수 지정\n",
    "discriminator.add(Dropout(0.3)) # 30% node 꺼줌\n",
    "discriminator.add(Conv2D(128,kernel_size = 5 , strides = 2 , padding = 'same')) # 28 * 28 * 128\n",
    "discriminator.add(Activation(LeakyReLU(0.2))) # 활성화 함수 지정\n",
    "discriminator.add(Dropout(0.3)) # 30 % node  꺼줌\n",
    "discriminator.add(Flatten()) # 1차원으로 평탄화\n",
    "discriminator.add(Dense(1,activation = 'sigmoid'))\n",
    "discriminator.compile(loss='binary_crossentropy',optimizer ='adam')\n",
    "discriminator.traunable = False\n",
    "discriminator.summary()"
   ]
  },
  {
   "cell_type": "code",
   "execution_count": 14,
   "metadata": {},
   "outputs": [
    {
     "data": {
      "text/plain": [
       "(60000, 28, 28)"
      ]
     },
     "execution_count": 14,
     "metadata": {},
     "output_type": "execute_result"
    }
   ],
   "source": [
    "from tensorflow.keras.datasets import mnist\n",
    "\n",
    "(X_train,y_train),(_,_) = mnist.load_data()\n",
    "\n",
    "X_train.shape\n"
   ]
  },
  {
   "cell_type": "code",
   "execution_count": 18,
   "metadata": {},
   "outputs": [
    {
     "name": "stdout",
     "output_type": "stream",
     "text": [
      "Model: \"model_1\"\n",
      "_________________________________________________________________\n",
      " Layer (type)                Output Shape              Param #   \n",
      "=================================================================\n",
      " input_4 (InputLayer)        [(None, 100)]             0         \n",
      "                                                                 \n",
      " sequential_2 (Sequential)   (None, 28, 28, 1)         865281    \n",
      "                                                                 \n",
      " sequential_4 (Sequential)   (None, 1)                 212865    \n",
      "                                                                 \n",
      "=================================================================\n",
      "Total params: 1,078,146\n",
      "Trainable params: 1,065,474\n",
      "Non-trainable params: 12,672\n",
      "_________________________________________________________________\n"
     ]
    }
   ],
   "source": [
    "# 생성자와 판별자 모델을 연결시키는 모델 gan 생성\n",
    "ginput = Input(shape = (100,))\n",
    "dis_output = discriminator(generator(ginput))\n",
    "gan = Model(ginput,dis_output)\n",
    "gan.compile(loss = 'binary_crossentropy',optimizer = 'adam')\n",
    "gan.summary()"
   ]
  },
  {
   "cell_type": "code",
   "execution_count": null,
   "metadata": {},
   "outputs": [],
   "source": [
    "# 학습하는 함수 생성\n",
    "def gan_train(epoch,batch_size,saving_interval):\n",
    "    # MNIST_data 불러오기\n",
    "    (X_train,_),(_,_) = mnist.load_data()"
   ]
  }
 ],
 "metadata": {
  "kernelspec": {
   "display_name": "py3.8",
   "language": "python",
   "name": "python3"
  },
  "language_info": {
   "codemirror_mode": {
    "name": "ipython",
    "version": 3
   },
   "file_extension": ".py",
   "mimetype": "text/x-python",
   "name": "python",
   "nbconvert_exporter": "python",
   "pygments_lexer": "ipython3",
   "version": "3.8.16"
  },
  "orig_nbformat": 4
 },
 "nbformat": 4,
 "nbformat_minor": 2
}
